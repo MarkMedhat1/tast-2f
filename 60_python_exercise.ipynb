{
 "cells": [
  {
   "cell_type": "markdown",
   "id": "759d04ba",
   "metadata": {
    "id": "759d04ba"
   },
   "source": [
    "**1-Write a Python program to calculate the length of a string using 2 ways"
   ]
  },
  {
   "cell_type": "code",
   "execution_count": 7,
   "id": "e434c950",
   "metadata": {
    "id": "e434c950"
   },
   "outputs": [
    {
     "name": "stdout",
     "output_type": "stream",
     "text": [
      "plz enter a stringhjh\n",
      "3\n"
     ]
    }
   ],
   "source": [
    "string = input(\"plz enter a string\")\n",
    "count=0\n",
    "for i in string:\n",
    "        count += 1\n",
    "print(count)"
   ]
  },
  {
   "cell_type": "code",
   "execution_count": null,
   "id": "7a2dfa32",
   "metadata": {
    "id": "7a2dfa32"
   },
   "outputs": [],
   "source": [
    "string = input(\"plz enter a string\")\n",
    "x = len(string)\n",
    "print(x)"
   ]
  },
  {
   "cell_type": "markdown",
   "id": "d7cc9da7",
   "metadata": {
    "id": "d7cc9da7"
   },
   "source": [
    "**2-Write a Python program to get a string made of the first 2 and last 2 characters of a given string. If the string length is less than 2, return the empty string instead (\"##Sample String : 'w3resource'\n",
    "Expected Result : 'w3ce'\n",
    "##Sample String : 'w3'\n",
    "Expected Result : 'w3w3'\n",
    "##Sample String : ' w'\n",
    "Expected Result : Empty String)"
   ]
  },
  {
   "cell_type": "code",
   "execution_count": 3,
   "id": "dafa9dd8",
   "metadata": {
    "id": "dafa9dd8"
   },
   "outputs": [
    {
     "name": "stdout",
     "output_type": "stream",
     "text": [
      "please enter any string: fgdg\n",
      "fg\n"
     ]
    }
   ],
   "source": [
    "string =input(\"please enter any string: \")\n",
    "if len(string) < 2:\n",
    "    print ()\n",
    "else:\n",
    "    print (string[0:2]+string [-2: 1])"
   ]
  },
  {
   "cell_type": "markdown",
   "id": "1534f956",
   "metadata": {
    "id": "1534f956"
   },
   "source": [
    "**3-Write a Python program to add 'ing' at the end of a given string (length should be at least 3). If the given string already ends with 'ing', add 'ly' instead. If the string length of the given string is less than 3, leave it unchanged. (Sample String : 'abc'\n",
    "Expected Result : 'abcing')"
   ]
  },
  {
   "cell_type": "code",
   "execution_count": 4,
   "id": "7ff8cec4",
   "metadata": {
    "id": "7ff8cec4"
   },
   "outputs": [
    {
     "name": "stdout",
     "output_type": "stream",
     "text": [
      "ytryrtytr\n",
      "ytryrtytring\n"
     ]
    }
   ],
   "source": [
    "string = input()\n",
    "if len(string) <3:\n",
    "  print(string)\n",
    "elif string.endswith(\"ing\"):\n",
    "  print(\"ly\")\n",
    "else:\n",
    "  print(string+\"ing\")"
   ]
  },
  {
   "cell_type": "markdown",
   "id": "1c0a6627",
   "metadata": {
    "id": "1c0a6627"
   },
   "source": [
    "**4-Write a Python function that takes a list of words and return the longest word and the length of the longest one\n",
    "(Longest word: Exercises\n",
    "Length of the longest word: 9)"
   ]
  },
  {
   "cell_type": "code",
   "execution_count": 5,
   "id": "397341d9",
   "metadata": {
    "id": "397341d9"
   },
   "outputs": [
    {
     "data": {
      "text/plain": [
       "('abdallah', 8)"
      ]
     },
     "execution_count": 5,
     "metadata": {},
     "output_type": "execute_result"
    }
   ],
   "source": [
    "def returnmax (words):\n",
    "    logestword =\"\"\n",
    "    maxlen = 0\n",
    "    for word in words:\n",
    "      if len(word) > maxlen:\n",
    "         logestword = word\n",
    "         maxlen = len(word)\n",
    "    return logestword, maxlen\n",
    "maxword = returnmax ([\"ahmed\", \"heidy\",\"ola\",\"abdallah\"])\n",
    "maxword"
   ]
  },
  {
   "cell_type": "markdown",
   "id": "53a03a6a",
   "metadata": {
    "id": "53a03a6a"
   },
   "source": [
    "**5-Write a Python program to change a given string to a newly string where the first and last chars have been exchanged using 2 ways (Sample String:abca  Expected Result:ebce)"
   ]
  },
  {
   "cell_type": "code",
   "execution_count": 73,
   "id": "fd327d2a",
   "metadata": {
    "id": "fd327d2a"
   },
   "outputs": [
    {
     "name": "stdout",
     "output_type": "stream",
     "text": [
      "abac\n",
      "cbaa\n"
     ]
    }
   ],
   "source": [
    "string = input()\n",
    "\n",
    "print (string[2]+ string[1:-1] + string[0])"
   ]
  },
  {
   "cell_type": "code",
   "execution_count": null,
   "id": "285788b4",
   "metadata": {
    "id": "285788b4"
   },
   "outputs": [],
   "source": []
  },
  {
   "cell_type": "markdown",
   "id": "25f89808",
   "metadata": {
    "id": "25f89808"
   },
   "source": [
    "**6-Write a Python program to remove characters that have odd index values in a given string (Sample String:abca Expected Result:ac)"
   ]
  },
  {
   "cell_type": "code",
   "execution_count": 8,
   "id": "05959bd7",
   "metadata": {
    "id": "05959bd7"
   },
   "outputs": [
    {
     "data": {
      "text/plain": [
       "'Mr'"
      ]
     },
     "execution_count": 8,
     "metadata": {},
     "output_type": "execute_result"
    }
   ],
   "source": [
    "string =\"Mark\"\n",
    "string[::2]"
   ]
  },
  {
   "cell_type": "markdown",
   "id": "eb16e898",
   "metadata": {
    "id": "eb16e898"
   },
   "source": [
    "**7-Write a Python program to count the occurrences of each word in a given sentence (Sample String:amr and ahmed are frindes but amr is the tallest Expected Result:2)"
   ]
  },
  {
   "cell_type": "code",
   "execution_count": 76,
   "id": "01ce6cf5",
   "metadata": {
    "id": "01ce6cf5"
   },
   "outputs": [
    {
     "name": "stdout",
     "output_type": "stream",
     "text": [
      "mark 1\n",
      "name 1\n",
      "is 2\n",
      "age 1\n",
      ", 1\n",
      "21 1\n",
      "my 2\n"
     ]
    }
   ],
   "source": [
    "sentence = \"my name is mark , my age is 21 \"\n",
    "words =sentence.split()\n",
    "words = set(words)\n",
    "\n",
    "for word in words:\n",
    "  print(word ,sentence.count(word))"
   ]
  },
  {
   "cell_type": "markdown",
   "id": "4e8125f1",
   "metadata": {
    "id": "4e8125f1"
   },
   "source": [
    "**8-Write a Python script that takes input from the user and displays that input back in upper and lower cases"
   ]
  },
  {
   "cell_type": "code",
   "execution_count": 11,
   "id": "66c8f778",
   "metadata": {
    "id": "66c8f778"
   },
   "outputs": [
    {
     "name": "stdout",
     "output_type": "stream",
     "text": [
      "tyu\n",
      "TYU tyu\n"
     ]
    }
   ],
   "source": [
    "string = input()\n",
    "print (string.upper(), string. lower())"
   ]
  },
  {
   "cell_type": "markdown",
   "id": "fcd68aa1",
   "metadata": {
    "id": "fcd68aa1"
   },
   "source": [
    "**9-Write a Python function to reverse a string if its length is a multiple of 4"
   ]
  },
  {
   "cell_type": "code",
   "execution_count": 78,
   "id": "0671a931",
   "metadata": {
    "id": "0671a931"
   },
   "outputs": [
    {
     "name": "stdout",
     "output_type": "stream",
     "text": [
      "yuhgfgyg\n",
      "gygfghuy\n"
     ]
    }
   ],
   "source": [
    "string = input()\n",
    "if len(string) %4 ==0:\n",
    "   print(string[::-1])"
   ]
  },
  {
   "cell_type": "markdown",
   "id": "b577c68d",
   "metadata": {
    "id": "b577c68d"
   },
   "source": [
    "**10- Write a Python program to remove a newline in Python"
   ]
  },
  {
   "cell_type": "code",
   "execution_count": 81,
   "id": "e0c6525a",
   "metadata": {
    "id": "e0c6525a"
   },
   "outputs": [
    {
     "name": "stdout",
     "output_type": "stream",
     "text": [
      "my name is mark   my age is 21\n"
     ]
    }
   ],
   "source": [
    "string= \"my name is mark \\n my age is 21\"\n",
    "print(string.replace(\"\\n\",\" \"))"
   ]
  },
  {
   "cell_type": "markdown",
   "id": "80db5ae0",
   "metadata": {
    "id": "80db5ae0"
   },
   "source": [
    "**11-Write a Python program to check whether a string starts with specified characters"
   ]
  },
  {
   "cell_type": "code",
   "execution_count": 14,
   "id": "0cc4e03e",
   "metadata": {
    "id": "0cc4e03e"
   },
   "outputs": [
    {
     "name": "stdout",
     "output_type": "stream",
     "text": [
      "False\n"
     ]
    }
   ],
   "source": [
    "str= \"mark \"\n",
    "print(str.startswith(\"a\"))"
   ]
  },
  {
   "cell_type": "markdown",
   "id": "593a68db",
   "metadata": {
    "id": "593a68db"
   },
   "source": [
    "**12- Write a Python program to add prefix text to all of the lines in a string"
   ]
  },
  {
   "cell_type": "code",
   "execution_count": 15,
   "id": "d2e46ada",
   "metadata": {
    "id": "d2e46ada"
   },
   "outputs": [
    {
     "name": "stdout",
     "output_type": "stream",
     "text": [
      "mr.ahmed\n",
      "mr.emad\n"
     ]
    }
   ],
   "source": [
    "string= \"ahmed\\nemad\"\n",
    "mylist=string.split(\"\\n\")\n",
    "mylist\n",
    "for i in mylist:\n",
    "  print(\"mr.\" +i )"
   ]
  },
  {
   "cell_type": "markdown",
   "id": "86fa1543",
   "metadata": {
    "id": "86fa1543"
   },
   "source": [
    "**13-Write a Python program to print the following numbers up to 2 decimal places"
   ]
  },
  {
   "cell_type": "code",
   "execution_count": 16,
   "id": "cd4a9d89",
   "metadata": {
    "id": "cd4a9d89"
   },
   "outputs": [
    {
     "data": {
      "text/plain": [
       "2.35"
      ]
     },
     "execution_count": 16,
     "metadata": {},
     "output_type": "execute_result"
    }
   ],
   "source": [
    "round(2.34567,2)"
   ]
  },
  {
   "cell_type": "markdown",
   "id": "452c0ab0",
   "metadata": {
    "id": "452c0ab0"
   },
   "source": [
    "**14-Write a Python program to print the following numbers up to 2 decimal places with a sign"
   ]
  },
  {
   "cell_type": "code",
   "execution_count": 18,
   "id": "73e82479",
   "metadata": {
    "id": "73e82479"
   },
   "outputs": [
    {
     "name": "stdout",
     "output_type": "stream",
     "text": [
      "-2.565785876\n",
      "-2.57\n"
     ]
    }
   ],
   "source": [
    "number= float(input())\n",
    "if number>0:\n",
    "  print(\"+\",round(number,2))\n",
    "else:\n",
    "  print(round(number,2))"
   ]
  },
  {
   "cell_type": "markdown",
   "id": "32b1811a",
   "metadata": {
    "id": "32b1811a"
   },
   "source": [
    "**15-Write a Python program to display a number with a comma separator"
   ]
  },
  {
   "cell_type": "code",
   "execution_count": 28,
   "id": "f30fc0b6",
   "metadata": {
    "id": "f30fc0b6"
   },
   "outputs": [
    {
     "name": "stdout",
     "output_type": "stream",
     "text": [
      "3,4,5,6,7,8,7,8,9,"
     ]
    }
   ],
   "source": [
    "## number = 345678789\n",
    "number_str = \"345678789\" #str(number)\n",
    "for i in number_str:\n",
    "    print(i + \",\" , end=\"\")\n",
    "\n"
   ]
  },
  {
   "cell_type": "markdown",
   "id": "0477f487",
   "metadata": {
    "id": "0477f487"
   },
   "source": [
    "**16-Write a Python program to reverse a string using 2 ways"
   ]
  },
  {
   "cell_type": "code",
   "execution_count": 29,
   "id": "aa8beec8",
   "metadata": {
    "id": "aa8beec8"
   },
   "outputs": [
    {
     "data": {
      "text/plain": [
       "'kram'"
      ]
     },
     "execution_count": 29,
     "metadata": {},
     "output_type": "execute_result"
    }
   ],
   "source": [
    "string= \"mark\"\n",
    "string[::-1]"
   ]
  },
  {
   "cell_type": "code",
   "execution_count": 30,
   "id": "df0d4891",
   "metadata": {},
   "outputs": [
    {
     "name": "stdout",
     "output_type": "stream",
     "text": [
      "k\n",
      "r\n",
      "a\n",
      "m\n"
     ]
    }
   ],
   "source": [
    "for i in range(len(string)-1,-1,-1):\n",
    "  print(string[i])"
   ]
  },
  {
   "cell_type": "markdown",
   "id": "5afc3166",
   "metadata": {
    "id": "5afc3166"
   },
   "source": [
    " **17-Write a Python program to count repeated characters in a string (hint:use dictionary)"
   ]
  },
  {
   "cell_type": "code",
   "execution_count": 82,
   "id": "515a469c",
   "metadata": {
    "id": "515a469c"
   },
   "outputs": [
    {
     "name": "stdout",
     "output_type": "stream",
     "text": [
      "{'m': 3, 'y': 1, ' ': 3, 'n': 1, 'a': 2, 'e': 1, 'i': 1, 's': 1, 'r': 1, 'k': 1}\n"
     ]
    }
   ],
   "source": [
    "string = \"my name is mark\"\n",
    "d= dict()\n",
    "for i in string:\n",
    "    d[i] = 0\n",
    "for i  in d:\n",
    "     d[i] = string.count(i)\n",
    "print(d)\n",
    "        "
   ]
  },
  {
   "cell_type": "markdown",
   "id": "ae14e4e5",
   "metadata": {
    "id": "ae14e4e5"
   },
   "source": [
    "**18-Write a Python program to find the first non-repeating character in a given string"
   ]
  },
  {
   "cell_type": "code",
   "execution_count": 84,
   "id": "d73778e5",
   "metadata": {
    "id": "d73778e5"
   },
   "outputs": [
    {
     "name": "stdout",
     "output_type": "stream",
     "text": [
      "I\n"
     ]
    }
   ],
   "source": [
    "string = \"Instant software solution\"\n",
    "for i in string:\n",
    "  if string.count(i)==1:\n",
    "     print(i)\n",
    "     break"
   ]
  },
  {
   "cell_type": "markdown",
   "id": "3adf5669",
   "metadata": {
    "id": "3adf5669"
   },
   "source": [
    "**19-Write a Python program to remove spaces from a given string"
   ]
  },
  {
   "cell_type": "code",
   "execution_count": null,
   "id": "b4f22602",
   "metadata": {
    "id": "b4f22602"
   },
   "outputs": [],
   "source": [
    "char = input(\"Enter a string with spaces: \")\n",
    "new_char = char.replace(\" \", \"\")\n",
    "\n",
    "print(new_char)"
   ]
  },
  {
   "cell_type": "markdown",
   "id": "734de60c",
   "metadata": {
    "id": "734de60c"
   },
   "source": [
    "**20-Write a Python program to count the number of non-empty substrings of a given string"
   ]
  },
  {
   "cell_type": "code",
   "execution_count": 45,
   "id": "ef3f2274",
   "metadata": {
    "id": "ef3f2274"
   },
   "outputs": [
    {
     "name": "stdout",
     "output_type": "stream",
     "text": [
      "ahmed\n",
      "15.0\n"
     ]
    }
   ],
   "source": [
    "string = input()\n",
    "numberofsubstrings= (len(string)*(len(string)+1))/2\n",
    "print(numberofsubstrings)"
   ]
  },
  {
   "cell_type": "markdown",
   "id": "509998e2",
   "metadata": {
    "id": "509998e2"
   },
   "source": [
    "**21-write a Python program to swap first and last element of any list."
   ]
  },
  {
   "cell_type": "code",
   "execution_count": 47,
   "id": "68692d7f",
   "metadata": {
    "id": "68692d7f"
   },
   "outputs": [
    {
     "data": {
      "text/plain": [
       "[5, 2, 3, 4, 1]"
      ]
     },
     "execution_count": 47,
     "metadata": {},
     "output_type": "execute_result"
    }
   ],
   "source": [
    "l = [1,2,3,4,5]\n",
    "l[0] , l[-1] = l[-1] , l[0]\n",
    "l"
   ]
  },
  {
   "cell_type": "markdown",
   "id": "959e0837",
   "metadata": {
    "id": "959e0837"
   },
   "source": [
    "**22-Given a list in Python and provided the positions of the elements, write a program to swap the two elements in the list. (Input : List = [23, 65, 19, 90], pos1 = 1, pos2 = 3\n",
    "Output : [19, 65, 23, 90])"
   ]
  },
  {
   "cell_type": "code",
   "execution_count": null,
   "id": "225d8c6d",
   "metadata": {
    "id": "225d8c6d"
   },
   "outputs": [],
   "source": [
    "l = [23, 65, 19, 90]\n",
    "pos1 =1\n",
    "pos2 =3\n",
    "l[pos1] , l[pos2] = l[pos2] , l[pos1]\n",
    "print(l)"
   ]
  },
  {
   "cell_type": "markdown",
   "id": "66fc6682",
   "metadata": {
    "id": "66fc6682"
   },
   "source": [
    "**23- search for the all ways to know the length of the list"
   ]
  },
  {
   "cell_type": "code",
   "execution_count": 50,
   "id": "7cd91bf2",
   "metadata": {},
   "outputs": [
    {
     "name": "stdout",
     "output_type": "stream",
     "text": [
      "4\n"
     ]
    }
   ],
   "source": [
    "strg = \"hgjf\"\n",
    "counter = 0\n",
    "for i in strg:\n",
    "  counter +=1\n",
    "print(counter)\n"
   ]
  },
  {
   "cell_type": "markdown",
   "id": "d5151f54",
   "metadata": {
    "id": "63ff8b43"
   },
   "source": [
    "24-write a Python code to find the Maximum number of list of numbers.\n"
   ]
  },
  {
   "cell_type": "code",
   "execution_count": null,
   "id": "15f342de",
   "metadata": {
    "id": "15f342de"
   },
   "outputs": [],
   "source": [
    " l =[1,2,3,4,5,6,8,7]\n",
    " print(max(l))"
   ]
  },
  {
   "cell_type": "code",
   "execution_count": null,
   "id": "1a89b9d3",
   "metadata": {
    "id": "1a89b9d3"
   },
   "outputs": [],
   "source": [
    "**25-write a Python code to find the Minimum number of list of numbers."
   ]
  },
  {
   "cell_type": "code",
   "execution_count": null,
   "id": "21f8cbd6",
   "metadata": {
    "id": "21f8cbd6"
   },
   "outputs": [],
   "source": [
    " l=[1,2,3,4,5,6,8,7]\n",
    " print(min(l))"
   ]
  },
  {
   "cell_type": "markdown",
   "id": "96822d96",
   "metadata": {
    "id": "96822d96"
   },
   "source": [
    "**26-search for if an elem is existing in list"
   ]
  },
  {
   "cell_type": "code",
   "execution_count": 54,
   "id": "51ca5c9a",
   "metadata": {
    "id": "51ca5c9a"
   },
   "outputs": [
    {
     "name": "stdout",
     "output_type": "stream",
     "text": [
      "enter a number 6\n"
     ]
    },
    {
     "ename": "TypeError",
     "evalue": "'str' object is not callable",
     "output_type": "error",
     "traceback": [
      "\u001b[1;31m---------------------------------------------------------------------------\u001b[0m",
      "\u001b[1;31mTypeError\u001b[0m                                 Traceback (most recent call last)",
      "Cell \u001b[1;32mIn[54], line 8\u001b[0m\n\u001b[0;32m      6\u001b[0m     \u001b[38;5;28mprint\u001b[39m(\u001b[38;5;28mstr\u001b[39m(element) \u001b[38;5;241m+\u001b[39m\u001b[38;5;124m\"\u001b[39m\u001b[38;5;124m is present in the list.\u001b[39m\u001b[38;5;124m\"\u001b[39m)\n\u001b[0;32m      7\u001b[0m \u001b[38;5;28;01melse\u001b[39;00m:\n\u001b[1;32m----> 8\u001b[0m     \u001b[38;5;28mprint\u001b[39m(\u001b[38;5;28mstr\u001b[39m(element) \u001b[38;5;241m+\u001b[39m\u001b[38;5;124m\"\u001b[39m\u001b[38;5;124m isnt present in the  list.\u001b[39m\u001b[38;5;124m\"\u001b[39m)\n",
      "\u001b[1;31mTypeError\u001b[0m: 'str' object is not callable"
     ]
    }
   ],
   "source": [
    "my_list = [1, 2, 3, 4, 5]\n",
    "\n",
    "element =int(input(\"enter a number \"))\n",
    "\n",
    "if element in my_list:\n",
    "    print(str(element) +\" is present in the list.\")\n",
    "else:\n",
    "    print(str(element) +\" isnt present in the  list.\")"
   ]
  },
  {
   "cell_type": "markdown",
   "id": "d9557da7",
   "metadata": {
    "id": "d9557da7"
   },
   "source": [
    "**27- clear python list using different ways"
   ]
  },
  {
   "cell_type": "code",
   "execution_count": 55,
   "id": "b69858a3",
   "metadata": {
    "id": "b69858a3"
   },
   "outputs": [],
   "source": [
    "l=[1,2,3,4,5,6,8,7]\n",
    "l.clear()"
   ]
  },
  {
   "cell_type": "markdown",
   "id": "52160e88",
   "metadata": {
    "id": "52160e88"
   },
   "source": [
    "**28-remove duplicated elements from a list"
   ]
  },
  {
   "cell_type": "code",
   "execution_count": 56,
   "id": "5e362228",
   "metadata": {
    "id": "5e362228"
   },
   "outputs": [
    {
     "name": "stdout",
     "output_type": "stream",
     "text": [
      "[2, 3, 5, 7]\n"
     ]
    }
   ],
   "source": [
    "l=[2,2,3,3,5,5,7]\n",
    "l = list(dict.fromkeys(l))\n",
    "print(l)"
   ]
  },
  {
   "cell_type": "markdown",
   "id": "282337f7",
   "metadata": {
    "id": "282337f7"
   },
   "source": [
    "**29-Given list values and keys list, convert these values to key value pairs in form of list of dictionaries. (Input : test_list = [“Gfg”, 3, “is”, 8], key_list = [“name”, “id”]\n",
    "Output : [{‘name’: ‘Gfg’, ‘id’: 3}, {‘name’: ‘is’, ‘id’: 8}])"
   ]
  },
  {
   "cell_type": "code",
   "execution_count": 63,
   "id": "4d4e2d28",
   "metadata": {
    "id": "4d4e2d28"
   },
   "outputs": [
    {
     "ename": "IndexError",
     "evalue": "list index out of range",
     "output_type": "error",
     "traceback": [
      "\u001b[1;31m---------------------------------------------------------------------------\u001b[0m",
      "\u001b[1;31mIndexError\u001b[0m                                Traceback (most recent call last)",
      "Cell \u001b[1;32mIn[63], line 5\u001b[0m\n\u001b[0;32m      2\u001b[0m key_list \u001b[38;5;241m=\u001b[39m [\u001b[38;5;124m\"\u001b[39m\u001b[38;5;124mname\u001b[39m\u001b[38;5;124m\"\u001b[39m, \u001b[38;5;124m\"\u001b[39m\u001b[38;5;124mid\u001b[39m\u001b[38;5;124m\"\u001b[39m]\n\u001b[0;32m      4\u001b[0m \u001b[38;5;66;03m# Using list comprehension to create a list of dictionaries\u001b[39;00m\n\u001b[1;32m----> 5\u001b[0m result \u001b[38;5;241m=\u001b[39m [{key_list[i]: test_list[i], key_list[i \u001b[38;5;241m+\u001b[39m \u001b[38;5;241m1\u001b[39m]: test_list[i \u001b[38;5;241m+\u001b[39m \u001b[38;5;241m1\u001b[39m]} \u001b[38;5;28;01mfor\u001b[39;00m i \u001b[38;5;129;01min\u001b[39;00m \u001b[38;5;28mrange\u001b[39m(\u001b[38;5;241m0\u001b[39m, \u001b[38;5;28mlen\u001b[39m(test_list)\u001b[38;5;241m+\u001b[39m\u001b[38;5;241m1\u001b[39m, \u001b[38;5;28mlen\u001b[39m(key_list))]\n\u001b[0;32m      7\u001b[0m \u001b[38;5;66;03m# Printing the result\u001b[39;00m\n\u001b[0;32m      8\u001b[0m \u001b[38;5;28mprint\u001b[39m(result)\n",
      "Cell \u001b[1;32mIn[63], line 5\u001b[0m, in \u001b[0;36m<listcomp>\u001b[1;34m(.0)\u001b[0m\n\u001b[0;32m      2\u001b[0m key_list \u001b[38;5;241m=\u001b[39m [\u001b[38;5;124m\"\u001b[39m\u001b[38;5;124mname\u001b[39m\u001b[38;5;124m\"\u001b[39m, \u001b[38;5;124m\"\u001b[39m\u001b[38;5;124mid\u001b[39m\u001b[38;5;124m\"\u001b[39m]\n\u001b[0;32m      4\u001b[0m \u001b[38;5;66;03m# Using list comprehension to create a list of dictionaries\u001b[39;00m\n\u001b[1;32m----> 5\u001b[0m result \u001b[38;5;241m=\u001b[39m [{key_list[i]: test_list[i], key_list[i \u001b[38;5;241m+\u001b[39m \u001b[38;5;241m1\u001b[39m]: test_list[i \u001b[38;5;241m+\u001b[39m \u001b[38;5;241m1\u001b[39m]} \u001b[38;5;28;01mfor\u001b[39;00m i \u001b[38;5;129;01min\u001b[39;00m \u001b[38;5;28mrange\u001b[39m(\u001b[38;5;241m0\u001b[39m, \u001b[38;5;28mlen\u001b[39m(test_list)\u001b[38;5;241m+\u001b[39m\u001b[38;5;241m1\u001b[39m, \u001b[38;5;28mlen\u001b[39m(key_list))]\n\u001b[0;32m      7\u001b[0m \u001b[38;5;66;03m# Printing the result\u001b[39;00m\n\u001b[0;32m      8\u001b[0m \u001b[38;5;28mprint\u001b[39m(result)\n",
      "\u001b[1;31mIndexError\u001b[0m: list index out of range"
     ]
    }
   ],
   "source": [
    "test_list = [\"Gfg\", 3, \"is\", 8]\n",
    "key_list = [\"name\", \"id\"]\n",
    "\n",
    "# Using list comprehension to create a list of dictionaries\n",
    "result = [{key_list[i]: test_list[i], key_list[i + 1]: test_list[i + 1]} for i in range(0, len(test_list)+1, len(key_list))]\n",
    "\n",
    "# Printing the result\n",
    "print(result)\n"
   ]
  },
  {
   "cell_type": "markdown",
   "id": "c26b6e9f",
   "metadata": {
    "id": "c26b6e9f"
   },
   "source": [
    "**30-write a python program to count unique values inside a list using different ways"
   ]
  },
  {
   "cell_type": "code",
   "execution_count": 60,
   "id": "72132667",
   "metadata": {
    "id": "72132667"
   },
   "outputs": [
    {
     "name": "stdout",
     "output_type": "stream",
     "text": [
      "13\n"
     ]
    }
   ],
   "source": [
    "my_list = [1, 2, 3, 4, 4, 5, 6, 7, 7, 8, 9, 10, 10]\n",
    "unique_set = list((my_list))\n",
    "unique_count = len(unique_set)\n",
    "print( unique_count )"
   ]
  },
  {
   "cell_type": "markdown",
   "id": "fed6677c",
   "metadata": {
    "id": "fed6677c"
   },
   "source": [
    "**31-write a python program Extract all elements with Frequency greater than K (Input : test_list = [4, 6, 4, 3, 3, 4, 3, 4, 3, 8], K = 3\n",
    "Output : [4, 3] )"
   ]
  },
  {
   "cell_type": "code",
   "execution_count": 65,
   "id": "d81f3f9d",
   "metadata": {
    "id": "d81f3f9d"
   },
   "outputs": [
    {
     "ename": "TypeError",
     "evalue": "'str' object is not callable",
     "output_type": "error",
     "traceback": [
      "\u001b[1;31m---------------------------------------------------------------------------\u001b[0m",
      "\u001b[1;31mTypeError\u001b[0m                                 Traceback (most recent call last)",
      "Cell \u001b[1;32mIn[65], line 9\u001b[0m\n\u001b[0;32m      7\u001b[0m \t\u001b[38;5;28;01mif\u001b[39;00m freq \u001b[38;5;241m>\u001b[39m K \u001b[38;5;129;01mand\u001b[39;00m i \u001b[38;5;129;01mnot\u001b[39;00m \u001b[38;5;129;01min\u001b[39;00m x:\n\u001b[0;32m      8\u001b[0m \t\tx\u001b[38;5;241m.\u001b[39mappend(i)\n\u001b[1;32m----> 9\u001b[0m \u001b[38;5;28mprint\u001b[39m(\u001b[38;5;124m\"\u001b[39m\u001b[38;5;124m new list:\u001b[39m\u001b[38;5;124m\"\u001b[39m\u001b[38;5;241m+\u001b[39m \u001b[38;5;28mstr\u001b[39m(x))\n",
      "\u001b[1;31mTypeError\u001b[0m: 'str' object is not callable"
     ]
    }
   ],
   "source": [
    "test_list = [4, 6, 4, 3, 3, 4, 3, 4, 3, 8]\n",
    "print(\" list : \" + str(test_list))\n",
    "K = 3\n",
    "x = []\n",
    "for i in test_list:\n",
    "\tfreq = test_list.count(i)\n",
    "\tif freq > K and i not in x:\n",
    "\t\tx.append(i)\n",
    "print(\" new list:\"+ str(x))\n"
   ]
  },
  {
   "cell_type": "markdown",
   "id": "caca5224",
   "metadata": {
    "id": "caca5224"
   },
   "source": [
    "**32-write a python program to find the Strongest Neighbour (Input: 1 2 2 3 4 5\n",
    "Output: 2 2 3 4 5)"
   ]
  },
  {
   "cell_type": "code",
   "execution_count": null,
   "id": "39fbd9b2",
   "metadata": {
    "id": "39fbd9b2"
   },
   "outputs": [],
   "source": [
    "n=6\n",
    "a1 = [1 ,2 ,2 ,3 ,4 ,5]\n",
    "a2 = []\n",
    "for i in range(1,n):\n",
    "    r = max(a1[i], a1[i-1])\n",
    "    a2.append(r)\n",
    "for i in a2 :\n",
    "    print(i,end=\" \")"
   ]
  },
  {
   "cell_type": "markdown",
   "id": "a9fa8baf",
   "metadata": {
    "id": "a9fa8baf"
   },
   "source": [
    "**33-write a Python Program to print all Possible Combinations from the three Digits (Input: [1, 2, 3]\n",
    "Output:\n",
    "1 2 3 ##\n",
    "1 3 2 ##\n",
    "2 1 3 ##\n",
    "2 3 1 ##\n",
    "3 1 2 ##\n",
    "3 2 1)"
   ]
  },
  {
   "cell_type": "code",
   "execution_count": null,
   "id": "8c520a76",
   "metadata": {
    "id": "8c520a76"
   },
   "outputs": [],
   "source": [
    "l = [1,2,3]\n",
    "numberofsubstrings= (len(l)*(len(l)+1))/2\n",
    "print(numberofsubstrings)"
   ]
  },
  {
   "cell_type": "markdown",
   "id": "5288bb89",
   "metadata": {
    "id": "5288bb89"
   },
   "source": [
    "**34-write a Python program to find all the Combinations in the list with the given condition (Input: test_list = [1,2,3]\n",
    "Output:\n",
    " [1], [1, 2], [1, 2, 3], [1, 3]\n",
    " [2], [2, 3], [3])"
   ]
  },
  {
   "cell_type": "code",
   "execution_count": null,
   "id": "59b89646",
   "metadata": {
    "id": "59b89646"
   },
   "outputs": [],
   "source": [
    "\n"
   ]
  },
  {
   "cell_type": "markdown",
   "id": "39973705",
   "metadata": {
    "id": "39973705"
   },
   "source": [
    "**35-write a Python program to get all unique combinations of two Lists (List_1 = [\"a\",\"b\"]\n",
    "List_2 = [1,2]\n",
    "Unique_combination = [[('a',1),('b',2)],[('a',2),('b',1)]] )"
   ]
  },
  {
   "cell_type": "code",
   "execution_count": 67,
   "id": "8c4ba22b",
   "metadata": {
    "id": "8c4ba22b"
   },
   "outputs": [
    {
     "name": "stdout",
     "output_type": "stream",
     "text": [
      "[('a', 1), ('a', 2), ('b', 1), ('b', 2)]\n"
     ]
    }
   ],
   "source": [
    "list_1 = [\"a\", \"b\"]\n",
    "list_2 = [1,2]\n",
    "unique_combinations = []\n",
    "for i in range(len(list_1)):\n",
    "\tfor j in range(len(list_2)):\n",
    "\t\tunique_combinations.append((list_1[i], list_2[j]))\n",
    "\n",
    "print(unique_combinations)"
   ]
  },
  {
   "cell_type": "markdown",
   "id": "25199af5",
   "metadata": {
    "id": "25199af5"
   },
   "source": [
    "**36-Remove all the occurrences of an element from a list in Python (Input : 1 1 2 3 4 5 1 2 1\n",
    "\n",
    "**Output : 2 3 4 5 2)"
   ]
  },
  {
   "cell_type": "code",
   "execution_count": 68,
   "id": "6dc4c2ba",
   "metadata": {
    "id": "6dc4c2ba"
   },
   "outputs": [
    {
     "name": "stdout",
     "output_type": "stream",
     "text": [
      "[2, 3, 4, 5, 2]\n"
     ]
    }
   ],
   "source": [
    "test_list = [1 ,1 ,2 ,3 ,4 ,5 ,1 ,2 ,1]\n",
    "ele=1\n",
    "x=[j for i,j in enumerate(test_list) if j!=ele]\n",
    "print(x)"
   ]
  },
  {
   "cell_type": "markdown",
   "id": "bf1a3c93",
   "metadata": {
    "id": "bf1a3c93"
   },
   "source": [
    "**37-write a python program to Replace index elements with elements in Other List (The original list 1 is : [‘Gfg’, ‘is’, ‘best’] The original list 2 is : [0, 1, 2, 1, 0, 0, 0, 2, 1, 1, 2, 0] The lists after index elements replacements is : [‘Gfg’, ‘is’, ‘best’, ‘is’, ‘Gfg’, ‘Gfg’, ‘Gfg’, ‘best’, ‘is’, ‘is’, ‘best’, ‘Gfg’])"
   ]
  },
  {
   "cell_type": "code",
   "execution_count": null,
   "id": "fdd66a71",
   "metadata": {
    "id": "fdd66a71"
   },
   "outputs": [],
   "source": [
    "a = [\"gfg\", \"is\" , \"best\"]\n",
    "b = [0, 1, 2, 1, 0, 0, 0, 2, 1, 1, 2, 0]\n",
    "print(\"List 1 : \" , a)\n",
    "print(\"List 2 : \" , b)\n",
    "x = [a[i] for i in b]\n",
    "print ( x)"
   ]
  },
  {
   "cell_type": "markdown",
   "id": "af0f56e8",
   "metadata": {
    "id": "af0f56e8"
   },
   "source": [
    "**38- write python program to Retain records with N occurrences of K(Input : test_list = [(4, 5, 5, 4), (5, 4, 3)], K = 5, N = 2\n",
    "Output : [(4, 5, 5, 4)]\n",
    "Input : test_list = [(4, 5, 5, 4), (5, 4, 3)], K = 5, N = 3\n",
    "Output : [] )"
   ]
  },
  {
   "cell_type": "code",
   "execution_count": null,
   "id": "67b06671",
   "metadata": {
    "id": "67b06671"
   },
   "outputs": [],
   "source": [
    "val = [(4, 5, 5, 4), (5, 4, 3)]\n",
    "K = 5\n",
    "N = 2\n",
    "x = [i for i in val if i.count(K) == N]\n",
    "print(x)"
   ]
  },
  {
   "cell_type": "markdown",
   "id": "de76f183",
   "metadata": {
    "id": "de76f183"
   },
   "source": [
    "**39-write a Python Program to Sort the list according to the column using lambda\n",
    "array = [[1, 3, 3], [2, 1, 2], [3, 2, 1]]\n",
    "Output :\n",
    "Sorted array specific to column 0, [[1, 3, 3], [2, 1, 2], [3, 2, 1]]\n",
    "Sorted array specific to column 1, [[2, 1, 2], [3, 2, 1], [1, 3, 3]]\n",
    "Sorted array specific to column 2, [[3, 2, 1], [2, 1, 2], [1, 3, 3]]"
   ]
  },
  {
   "cell_type": "code",
   "execution_count": null,
   "id": "dc883308",
   "metadata": {
    "id": "dc883308"
   },
   "outputs": [],
   "source": [
    "lst = ['id01', 'id10', 'id02', 'id12', 'id03', 'id13']\n",
    "lst_sorted = sorted(lst, key=lambda x: int(x[2:]))\n",
    "print(lst_sorted)"
   ]
  },
  {
   "cell_type": "code",
   "execution_count": null,
   "id": "d2e7b31f",
   "metadata": {
    "id": "d2e7b31f"
   },
   "outputs": [],
   "source": [
    "**40- write a program to Sort Python Dictionaries by Key or Value\n",
    "Input:\n",
    "{'ravi': 10, 'rajnish': 9, 'sanjeev': 15, 'yash': 2, 'suraj': 32}\n",
    "\n",
    "Output:\n",
    "{'rajnish': 9, 'ravi': 10, 'sanjeev': 15, 'suraj': 32, 'yash': 2}"
   ]
  },
  {
   "cell_type": "code",
   "execution_count": null,
   "id": "a96db4a0",
   "metadata": {
    "id": "a96db4a0"
   },
   "outputs": [],
   "source": [
    "myDict = {'ravi': 10, 'rajnish': 9,'sanjeev': 15, 'yash': 2, 'suraj': 32}\n",
    "myKeys = list(myDict.keys())\n",
    "myKeys.sort()\n",
    "sorted_dict = {i: myDict[i] for i in myKeys}\n",
    "print(sorted_dict)"
   ]
  },
  {
   "cell_type": "markdown",
   "id": "ec63c23a",
   "metadata": {
    "id": "ec63c23a"
   },
   "source": [
    "**41-write python program to Remove keys with Values Greater than K ( Including mixed values )\n",
    "nput : test_dict = {‘Gfg’ : 3, ‘is’ : 7, ‘best’ : 10, ‘for’ : 6, ‘geeks’ : ‘CS’},\n",
    "K = 7\n",
    "Output : {‘Gfg’ : 3, ‘for’ : 6, ‘geeks’ : ‘CS’}"
   ]
  },
  {
   "cell_type": "code",
   "execution_count": null,
   "id": "e39c3a40",
   "metadata": {
    "id": "e39c3a40"
   },
   "outputs": [],
   "source": [
    "test_dict = {'Gfg' : 3, 'is' : 7, 'best' : 10, 'for' : 6, 'geeks' : 'CS'}\n",
    "\n",
    "print(\"The original dictionary is : \" + string(test_dict))\n",
    "\n",
    "K = 6\n",
    "\n",
    "res = {}\n",
    "for key in test_dict:\n",
    "\n",
    "\tif not (isinstance(test_dict[key], int) and test_dict[key] > K):\n",
    "\t\tres[key] = test_dict[key]\n",
    "\n",
    "print(\"The constructed dictionary : \" + string(res))"
   ]
  },
  {
   "cell_type": "markdown",
   "id": "f143f0fe",
   "metadata": {
    "id": "f143f0fe"
   },
   "source": [
    "**42-Write a Python program to concatenate the following dictionaries to create a new one\n",
    "\n",
    "Sample Dictionary :\n",
    "dic1={1:10, 2:20}\n",
    "dic2={3:30, 4:40}\n",
    "dic3={5:50,6:60}\n",
    "Expected Result : {1: 10, 2: 20, 3: 30, 4: 40, 5: 50, 6: 60}"
   ]
  },
  {
   "cell_type": "code",
   "execution_count": null,
   "id": "74ffdfea",
   "metadata": {
    "id": "74ffdfea"
   },
   "outputs": [],
   "source": [
    "d1={1:10, 2:20}\n",
    "d2={3:30, 4:40}\n",
    "d3= {}\n",
    "for d in (d1,d2): d3.update(d)\n",
    "print(d3)"
   ]
  },
  {
   "cell_type": "markdown",
   "id": "fb04c93c",
   "metadata": {
    "id": "fb04c93c"
   },
   "source": [
    "**43-Write a Python program to iterate over dictionaries using for loops"
   ]
  },
  {
   "cell_type": "code",
   "execution_count": null,
   "id": "6aebc470",
   "metadata": {
    "id": "6aebc470"
   },
   "outputs": [],
   "source": [
    "words = {'a': 'juice', 'b': 'cat', 'c': 'anime'}\n",
    "for i in words:\n",
    "    print(i, words[i])"
   ]
  },
  {
   "cell_type": "markdown",
   "id": "5f491a9d",
   "metadata": {
    "id": "5f491a9d"
   },
   "source": [
    "**44- Write a Python script to merge two Python dictionaries"
   ]
  },
  {
   "cell_type": "code",
   "execution_count": null,
   "id": "b8a14028",
   "metadata": {
    "id": "b8a14028"
   },
   "outputs": [],
   "source": [
    "dict_1 = {1: 'a', 2: 'b'}\n",
    "dict_2 = {2: 'c', 4: 'd'}\n",
    "print(dict_1 | dict_2)"
   ]
  },
  {
   "cell_type": "markdown",
   "id": "216fc72d",
   "metadata": {
    "id": "216fc72d"
   },
   "source": [
    "**45-Write a Python program to get the maximum and minimum values of a dictionary values"
   ]
  },
  {
   "cell_type": "code",
   "execution_count": 1,
   "id": "d6883f5f",
   "metadata": {
    "id": "d6883f5f"
   },
   "outputs": [
    {
     "name": "stdout",
     "output_type": "stream",
     "text": [
      "Dictionary: {'a': 10, 'b': 5, 'c': 15, 'd': 3, 'e': 8}\n",
      "Maximum value: 15\n",
      "Minimum value: 3\n"
     ]
    }
   ],
   "source": [
    "sample_dict = {'a': 10, 'b': 5, 'c': 15, 'd': 3, 'e': 8}\n",
    "max_value = max(sample_dict.values())\n",
    "min_value = min(sample_dict.values())\n",
    "\n",
    "    # Display results\n",
    "print(\"Dictionary:\", sample_dict)\n",
    "print(\"Maximum value:\", max_value)\n",
    "print(\"Minimum value:\", min_value)"
   ]
  },
  {
   "cell_type": "markdown",
   "id": "b6a53011",
   "metadata": {
    "id": "b6a53011"
   },
   "source": [
    "**46- Write a Python program to drop empty items from a given dictionary.\n",
    "Original Dictionary:\n",
    "{'c1': 'Red', 'c2': 'Green', 'c3': None}\n",
    "New Dictionary after dropping empty items:\n",
    "{'c1': 'Red', 'c2': 'Green'}"
   ]
  },
  {
   "cell_type": "code",
   "execution_count": 2,
   "id": "b5c6fecf",
   "metadata": {
    "id": "b5c6fecf"
   },
   "outputs": [
    {
     "name": "stdout",
     "output_type": "stream",
     "text": [
      "Original Dictionary:\n",
      "{'a': 10, 'b': '', 'c': None, 'd': 'Hello', 'e': 0}\n",
      "\n",
      "Dictionary after dropping empty items:\n",
      "{'a': 10, 'd': 'Hello', 'e': 0}\n"
     ]
    }
   ],
   "source": [
    "# Original Dictionary\n",
    "original_dict = {'a': 10, 'b': '', 'c': None, 'd': 'Hello', 'e': 0}\n",
    "\n",
    "# Drop empty items using a dictionary comprehension\n",
    "modified_dict = {key: value for key, value in original_dict.items() if value is not None and value != ''}\n",
    "\n",
    "# Print the modified dictionary\n",
    "print(\"Original Dictionary:\")\n",
    "print(original_dict)\n",
    "\n",
    "print(\"\\nDictionary after dropping empty items:\")\n",
    "print(modified_dict)\n"
   ]
  },
  {
   "cell_type": "markdown",
   "id": "46d718c7",
   "metadata": {
    "id": "46d718c7"
   },
   "source": [
    "**47-Write a Python program to create a tuple of numbers and print one item"
   ]
  },
  {
   "cell_type": "code",
   "execution_count": null,
   "id": "13216ff5",
   "metadata": {
    "id": "13216ff5"
   },
   "outputs": [],
   "source": []
  },
  {
   "cell_type": "markdown",
   "id": "2be5b56b",
   "metadata": {
    "id": "2be5b56b"
   },
   "source": [
    "**48-Write a Python program to unpack a tuple into several variables"
   ]
  },
  {
   "cell_type": "code",
   "execution_count": 3,
   "id": "595f44be",
   "metadata": {
    "id": "595f44be"
   },
   "outputs": [
    {
     "name": "stdout",
     "output_type": "stream",
     "text": [
      "Unpacked Variables:\n",
      "var1: 1\n",
      "var2: apple\n",
      "var3: 3.14\n",
      "var4: True\n"
     ]
    }
   ],
   "source": [
    "# Create a tuple of values\n",
    "tuple_of_values = (1, 'apple', 3.14, True)\n",
    "\n",
    "# Unpack the tuple into individual variables\n",
    "var1, var2, var3, var4 = tuple_of_values\n",
    "\n",
    "# Print the unpacked variables\n",
    "print(\"Unpacked Variables:\")\n",
    "print(\"var1:\", var1)\n",
    "print(\"var2:\", var2)\n",
    "print(\"var3:\", var3)\n",
    "print(\"var4:\", var4)\n"
   ]
  },
  {
   "cell_type": "markdown",
   "id": "392388a7",
   "metadata": {
    "id": "392388a7"
   },
   "source": [
    "**49-Write a Python program to add an item to a tuple"
   ]
  },
  {
   "cell_type": "code",
   "execution_count": null,
   "id": "54cc092e",
   "metadata": {
    "id": "54cc092e"
   },
   "outputs": [],
   "source": [
    "tuplex = (1,2,3,4,5)\n",
    "tuplex = tuplex + (10,)\n",
    "print(tuplex)\n",
    "\n"
   ]
  },
  {
   "cell_type": "markdown",
   "id": "3e8fd124",
   "metadata": {
    "id": "3e8fd124"
   },
   "source": [
    "**50-Write a Python program to convert a tuple to a string"
   ]
  },
  {
   "cell_type": "code",
   "execution_count": null,
   "id": "92a71ddc",
   "metadata": {
    "id": "92a71ddc"
   },
   "outputs": [],
   "source": [
    "tup = (\"h\",\"e\",\"i\",\"d\",\"y\")\n",
    "str = ''.join(tup)\n",
    "print(str)\n"
   ]
  },
  {
   "cell_type": "markdown",
   "id": "f4f64ef4",
   "metadata": {
    "id": "f4f64ef4"
   },
   "source": [
    "**51-Write a Python program to convert a list to a tuple"
   ]
  },
  {
   "cell_type": "code",
   "execution_count": 1,
   "id": "210d56d3",
   "metadata": {
    "id": "210d56d3"
   },
   "outputs": [
    {
     "data": {
      "text/plain": [
       "(1, 2, 3, 4, 5)"
      ]
     },
     "execution_count": 1,
     "metadata": {},
     "output_type": "execute_result"
    }
   ],
   "source": [
    "num = [1, 2, 3, 4, 5]\n",
    "my_tuple = tuple(num)\n",
    "my_tuple\n"
   ]
  },
  {
   "cell_type": "markdown",
   "id": "b1e00ef7",
   "metadata": {
    "id": "b1e00ef7"
   },
   "source": [
    "**52-Write a Python program to reverse a tuple"
   ]
  },
  {
   "cell_type": "code",
   "execution_count": null,
   "id": "f45bfdc7",
   "metadata": {
    "id": "f45bfdc7"
   },
   "outputs": [],
   "source": [
    "def Reverse(tuples):\n",
    "    new_tup = tuples[::-1]\n",
    "    return new_tup\n",
    "tuples = ('z','a','d','f','g','e','e','k')\n",
    "print(Reverse(tuples))"
   ]
  },
  {
   "cell_type": "markdown",
   "id": "3cd347d1",
   "metadata": {
    "id": "3cd347d1"
   },
   "source": [
    "**53-Write a Python program to replace the last value of tuples in a list.\n",
    "Sample list: [(10, 20, 40), (40, 50, 60), (70, 80, 90)]\n",
    "Expected Output: [(10, 20, 100), (40, 50, 100), (70, 80, 100)]"
   ]
  },
  {
   "cell_type": "code",
   "execution_count": null,
   "id": "3c4a2a4c",
   "metadata": {
    "id": "3c4a2a4c"
   },
   "outputs": [],
   "source": [
    "l = [(10, 20, 40), (40, 50, 60), (70, 80, 90)]\n",
    "print([t[:-1] + (100,) for t in l])"
   ]
  },
  {
   "cell_type": "markdown",
   "id": "76bb7b39",
   "metadata": {
    "id": "76bb7b39"
   },
   "source": [
    "**54-Write a Python program to convert a given string list to a tuple\n",
    "Original string: python 3.0\n",
    "<class 'str'>\n",
    "Convert the said string to a tuple:\n",
    "('p', 'y', 't', 'h', 'o', 'n', '3', '.', '0')"
   ]
  },
  {
   "cell_type": "code",
   "execution_count": null,
   "id": "51951937",
   "metadata": {
    "id": "51951937"
   },
   "outputs": [],
   "source": [
    "test_str = \"1, -5, 4, 6, 7\"\n",
    "print(\"The original string : \" + str(test_str))\n",
    "res = tuple(map(int, test_str.split(', ')))\n",
    "print(\"Tuple after getting conversion from String : \" + str(res))\n"
   ]
  },
  {
   "cell_type": "markdown",
   "id": "5a1d5d97",
   "metadata": {
    "id": "5a1d5d97"
   },
   "source": [
    "**55-Write a Python program to calculate the average value of the numbers in a given tuple of tuples"
   ]
  },
  {
   "cell_type": "code",
   "execution_count": null,
   "id": "834e7992",
   "metadata": {
    "id": "834e7992"
   },
   "outputs": [],
   "source": [
    "test_list = [(1, 4, 5), (7, 8), (2, 4, 10)]\n",
    "print(\"The original list is : \" + string(test_list))\n",
    "sum = 0\n",
    "for sub in test_list:\n",
    "  \tfor i in sub:\n",
    "\t    \tsum = sum + i\n",
    "res = sum / len(test_list)\n",
    "print(\"The mean of tuple list is : \" + string(res))\n"
   ]
  },
  {
   "cell_type": "markdown",
   "id": "51edab9c",
   "metadata": {
    "id": "51edab9c"
   },
   "source": [
    "**56-Write a Python program to add member(s) to a set."
   ]
  },
  {
   "cell_type": "code",
   "execution_count": null,
   "id": "2b65df79",
   "metadata": {
    "id": "2b65df79"
   },
   "outputs": [],
   "source": [
    "name = {\"heidy\",\"ola\"}\n",
    "name.add(\"sayed\")\n",
    "print(\"Add single element : \",name)\n"
   ]
  },
  {
   "cell_type": "markdown",
   "id": "965590cc",
   "metadata": {
    "id": "965590cc"
   },
   "source": [
    "**57-Write a Python program to remove an item from a set if it is present in the set."
   ]
  },
  {
   "cell_type": "code",
   "execution_count": null,
   "id": "866bab28",
   "metadata": {
    "id": "866bab28"
   },
   "outputs": [],
   "source": [
    "setx = {\"ahmed\", \"ali\", \"heidy\"}\n",
    "\n",
    "setx.remove(\"ahmed\")\n",
    "\n",
    "print(setx)\n"
   ]
  },
  {
   "cell_type": "markdown",
   "id": "2b7cfed1",
   "metadata": {
    "id": "2b7cfed1"
   },
   "source": [
    "**58-Write a Python program to create an intersection,union,difference and symmetric difference of sets"
   ]
  },
  {
   "cell_type": "code",
   "execution_count": null,
   "id": "7f94b7fe",
   "metadata": {
    "id": "7f94b7fe"
   },
   "outputs": [],
   "source": [
    "A = {0, 2, 4, 6, 8};\n",
    "B = {1, 2, 3, 4, 5};\n",
    "print( A | B)\n",
    "print( A & B)\n",
    "print( A - B)\n",
    "print( A ^ B)\n"
   ]
  },
  {
   "cell_type": "markdown",
   "id": "b94931e2",
   "metadata": {
    "id": "b94931e2"
   },
   "source": [
    "**59-Write a Python program to find the maximum and minimum values in a set"
   ]
  },
  {
   "cell_type": "code",
   "execution_count": null,
   "id": "203f9600",
   "metadata": {
    "id": "203f9600"
   },
   "outputs": [],
   "source": [
    "my_set = {5, 2, 8, 1, 9, 2, 18}\n",
    "maximum = max(my_set)\n",
    "minimum = min(my_set)\n",
    "print(\"Maximum:\", maximum)\n",
    "print(\"Minimum:\", minimum)"
   ]
  },
  {
   "cell_type": "markdown",
   "id": "255fd554",
   "metadata": {
    "id": "255fd554"
   },
   "source": [
    "**60- Write a Python program that finds all pairs of elements in a list whose sum is equal to a given value."
   ]
  },
  {
   "cell_type": "code",
   "execution_count": null,
   "id": "c2d94e1f",
   "metadata": {
    "id": "c2d94e1f"
   },
   "outputs": [],
   "source": [
    "def findPairs(lst, K):\n",
    "\tres = []\n",
    "\twhile lst:\n",
    "\t\tnum = lst.pop()\n",
    "\t\tdiff = K - num\n",
    "\t\tif diff in lst:\n",
    "\t\t\tres.append((diff, num))\n",
    "\tres.reverse()\n",
    "\treturn res\n",
    "lst = [1, 5, 3, 7, 9]\n",
    "K = 12\n",
    "print(findPairs(lst, K))\n"
   ]
  }
 ],
 "metadata": {
  "colab": {
   "provenance": []
  },
  "kernelspec": {
   "display_name": "Python 3 (ipykernel)",
   "language": "python",
   "name": "python3"
  },
  "language_info": {
   "codemirror_mode": {
    "name": "ipython",
    "version": 3
   },
   "file_extension": ".py",
   "mimetype": "text/x-python",
   "name": "python",
   "nbconvert_exporter": "python",
   "pygments_lexer": "ipython3",
   "version": "3.11.5"
  }
 },
 "nbformat": 4,
 "nbformat_minor": 5
}
